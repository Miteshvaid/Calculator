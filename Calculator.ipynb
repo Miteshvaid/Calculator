{
  "nbformat": 4,
  "nbformat_minor": 0,
  "metadata": {
    "colab": {
      "provenance": []
    },
    "kernelspec": {
      "name": "python3",
      "display_name": "Python 3"
    },
    "language_info": {
      "name": "python"
    }
  },
  "cells": [
    {
      "cell_type": "code",
      "execution_count": null,
      "metadata": {
        "colab": {
          "base_uri": "https://localhost:8080/"
        },
        "id": "mxGqlyKPWonl",
        "outputId": "b0196db4-d306-4a7e-8f6a-2a5ad0630b3b"
      },
      "outputs": [
        {
          "output_type": "stream",
          "name": "stdout",
          "text": [
            "Select Operation\n",
            "1. ADDITION\n",
            "2. SUBTRACT\n",
            "3. MULTIPLICATION\n",
            "4. DIVISION\n",
            "Enter choice(1/2/3/4):2\n",
            "Enter first number:40\n",
            "Enter second number:30\n",
            "40.0 - 30.0 = 10.0\n"
          ]
        }
      ],
      "source": [
        "#Program to make a simple calculator\n",
        "#Add two numbers\n",
        "def add(x,y):\n",
        "  return x+y\n",
        "\n",
        "#Subtract two numbers\n",
        "def subtract(x,y):\n",
        "  return x-y\n",
        "\n",
        "#Multiply two numbers\n",
        "def multiply(x,y):\n",
        "  return x*y\n",
        "\n",
        "#Divide two numbers\n",
        "def division(x,y):\n",
        "  return x/y\n",
        "\n",
        "print(\"Select Operation\")\n",
        "print(\"1. ADDITION\")\n",
        "print(\"2. SUBTRACT\")\n",
        "print(\"3. MULTIPLICATION\")\n",
        "print(\"4. DIVISION\")\n",
        "\n",
        "while True:\n",
        "  #Take input from an user\n",
        "  choice = input(\"Enter choice(1/2/3/4):\")\n",
        "\n",
        "  #Check if choice is one of the four options\n",
        "  if choice in ('1','2','3','4'):\n",
        "    num1 = float(input(\"Enter first number:\"))\n",
        "    num2 = float(input(\"Enter second number:\"))\n",
        "\n",
        "    if choice == '1':\n",
        "      print(num1, '+',num2, '=',add(num1,num2))\n",
        "\n",
        "    elif choice == '2':\n",
        "      print(num1, '-',num2, '=',subtract(num1,num2))\n",
        "\n",
        "    elif choice == '3':\n",
        "      print(num1, '*',num2, '=',multiply(num1,num2))\n",
        "\n",
        "    elif choice == '4':\n",
        "      print(num1, '/',num2, '=',division(num1,num2))\n",
        "      break\n",
        "    else:\n",
        "      print(\"Invalid Input\")\n",
        "\n",
        "\n",
        "\n",
        "\n"
      ]
    }
  ]
}